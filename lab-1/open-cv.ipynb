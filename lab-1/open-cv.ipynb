{
 "cells": [
  {
   "cell_type": "code",
   "execution_count": 1,
   "id": "aa318318",
   "metadata": {},
   "outputs": [],
   "source": [
    "import matplotlib.pyplot as plt\n",
    "import os\n",
    "import numpy as np\n",
    "import cv2"
   ]
  },
  {
   "cell_type": "markdown",
   "id": "0f622aa8",
   "metadata": {},
   "source": [
    "# 1. Reading,Displaying and Writing an image"
   ]
  },
  {
   "cell_type": "code",
   "execution_count": null,
   "id": "eff0c6be",
   "metadata": {},
   "outputs": [],
   "source": [
    "img = cv2.imread('random.png')\n",
    " # displaying the image\n",
    "cv2.imshow('graycsale image',img)\n",
    " \n",
    "# waitKey() waits for a key press to close the window and 0 specifies indefinite loop\n",
    "cv2.waitKey(0)\n",
    " \n",
    "# cv2.destroyAllWindows() simply destroys all the windows we created.\n",
    "cv2.destroyAllWindows()\n",
    " \n",
    "# writitng the image\n",
    "cv2.imwrite('grayscale.jpg',img)"
   ]
  },
  {
   "cell_type": "markdown",
   "id": "28d26380",
   "metadata": {},
   "source": [
    "# 2. Changing the format from png to jpg"
   ]
  },
  {
   "cell_type": "code",
   "execution_count": null,
   "id": "612c03df",
   "metadata": {},
   "outputs": [],
   "source": [
    "response = cv2.imwrite(\"/output.jpg\", img)"
   ]
  },
  {
   "cell_type": "markdown",
   "id": "8b6354ff",
   "metadata": {},
   "source": [
    "# 3. Resizing the Image"
   ]
  },
  {
   "cell_type": "code",
   "execution_count": null,
   "id": "6aa09cb3",
   "metadata": {},
   "outputs": [],
   "source": [
    "img_resized = cv2.resize(img, (1050, 1610))"
   ]
  },
  {
   "cell_type": "markdown",
   "id": "708240ca",
   "metadata": {},
   "source": [
    "# 4. Converting the image to grayscale"
   ]
  },
  {
   "cell_type": "code",
   "execution_count": null,
   "id": "32821643",
   "metadata": {},
   "outputs": [],
   "source": [
    "gray_image = cv2.cvtColor(img, cv2.COLOR_BGR2GRAY) "
   ]
  },
  {
   "cell_type": "markdown",
   "id": "56f22864",
   "metadata": {},
   "source": [
    "# 5. Rotating and Shifting the image"
   ]
  },
  {
   "cell_type": "code",
   "execution_count": null,
   "id": "fe37113e",
   "metadata": {},
   "outputs": [],
   "source": [
    "#5.\n",
    "# rotating the image\n",
    "image = cv2.rotate(img, cv2.ROTATE_90_CLOCKWISE)\n",
    "#shifting the image (RECTILINEAR SHIFT)\n",
    "height, width = img.shape[:2] \n",
    "  \n",
    "quarter_height, quarter_width = height / 4, width / 4\n",
    "  \n",
    "T = np.float32([[1, 0, quarter_width], [0, 1, quarter_height]]) \n",
    "  \n",
    "# We use warpAffine to transform \n",
    "# the image using the matrix, T \n",
    "img_translation = cv2.warpAffine(img, T, (width, height)) "
   ]
  },
  {
   "cell_type": "markdown",
   "id": "8ab3e33f",
   "metadata": {},
   "source": [
    "# 6.1 - Playing a video"
   ]
  },
  {
   "cell_type": "code",
   "execution_count": null,
   "id": "d65085ef",
   "metadata": {},
   "outputs": [],
   "source": [
    "cap = cv2.VideoCapture('video_path')\n",
    "\n",
    "if not cap.isOpened():\n",
    "    print(\"Error opening video file\")\n",
    "\n",
    "while cap.isOpened():\n",
    "    ret, frame = cap.read()\n",
    "    if ret:\n",
    "        cv2.imshow('Frame', frame)\n",
    "        if cv2.waitKey(25) & 0xFF == ord('q'):\n",
    "            break\n",
    "    else:\n",
    "        break\n",
    "\n",
    "cap.release()\n",
    "cv2.destroyAllWindows()"
   ]
  },
  {
   "cell_type": "markdown",
   "id": "73dac43c",
   "metadata": {},
   "source": [
    "# 6.2- Extracting and saving all the frames of the video"
   ]
  },
  {
   "cell_type": "code",
   "execution_count": null,
   "id": "00d9ecdd",
   "metadata": {},
   "outputs": [],
   "source": [
    "video_path = \"video_path\"  \n",
    "cam = cv2.VideoCapture(video_path)\n",
    "\n",
    "try:\n",
    "    if not os.path.exists('data'):\n",
    "        os.makedirs('data')\n",
    "except OSError:\n",
    "    print('Error: Creating directory of data')\n",
    "\n",
    "currentframe = 0\n",
    "\n",
    "while True:\n",
    "    ret, frame = cam.read()\n",
    "\n",
    "    if ret:\n",
    "        name = os.path.join('data', 'frame' + str(currentframe) + '.jpg')\n",
    "        print('Creating...' + name)\n",
    "        cv2.imwrite(name, frame)\n",
    "        currentframe += 1\n",
    "    else:\n",
    "        break\n",
    "\n",
    "cam.release()\n",
    "cv2.destroyAllWindows()\n"
   ]
  }
 ],
 "metadata": {
  "kernelspec": {
   "display_name": "Python 3 (ipykernel)",
   "language": "python",
   "name": "python3"
  },
  "language_info": {
   "codemirror_mode": {
    "name": "ipython",
    "version": 3
   },
   "file_extension": ".py",
   "mimetype": "text/x-python",
   "name": "python",
   "nbconvert_exporter": "python",
   "pygments_lexer": "ipython3",
   "version": "3.10.9"
  }
 },
 "nbformat": 4,
 "nbformat_minor": 5
}
