{
 "cells": [
  {
   "cell_type": "code",
   "execution_count": 1,
   "id": "aa318318",
   "metadata": {},
   "outputs": [],
   "source": [
    "import matplotlib.pyplot as plt\n",
    "import os\n",
    "import numpy as np\n",
    "import cv2"
   ]
  },
  {
   "cell_type": "markdown",
   "id": "5e53755c",
   "metadata": {},
   "source": [
    "# 1. Reading,Displaying and Writing an image"
   ]
  },
  {
   "cell_type": "code",
   "execution_count": 2,
   "id": "eff0c6be",
   "metadata": {},
   "outputs": [
    {
     "ename": "error",
     "evalue": "OpenCV(4.8.1) D:\\a\\opencv-python\\opencv-python\\opencv\\modules\\imgproc\\src\\color.cpp:182: error: (-215:Assertion failed) !_src.empty() in function 'cv::cvtColor'\n",
     "output_type": "error",
     "traceback": [
      "\u001b[1;31m---------------------------------------------------------------------------\u001b[0m",
      "\u001b[1;31merror\u001b[0m                                     Traceback (most recent call last)",
      "Cell \u001b[1;32mIn[2], line 4\u001b[0m\n\u001b[0;32m      1\u001b[0m img \u001b[38;5;241m=\u001b[39m cv2\u001b[38;5;241m.\u001b[39mimread(\u001b[38;5;124m'\u001b[39m\u001b[38;5;124mrandom.png\u001b[39m\u001b[38;5;124m'\u001b[39m)\n\u001b[0;32m      3\u001b[0m \u001b[38;5;66;03m# Displaying the image using Matplotlib\u001b[39;00m\n\u001b[1;32m----> 4\u001b[0m plt\u001b[38;5;241m.\u001b[39mimshow(\u001b[43mcv2\u001b[49m\u001b[38;5;241;43m.\u001b[39;49m\u001b[43mcvtColor\u001b[49m\u001b[43m(\u001b[49m\u001b[43mimg\u001b[49m\u001b[43m,\u001b[49m\u001b[43m \u001b[49m\u001b[43mcv2\u001b[49m\u001b[38;5;241;43m.\u001b[39;49m\u001b[43mCOLOR_BGR2RGB\u001b[49m\u001b[43m)\u001b[49m)\n\u001b[0;32m      5\u001b[0m plt\u001b[38;5;241m.\u001b[39mtitle(\u001b[38;5;124m'\u001b[39m\u001b[38;5;124mGrayscale Image\u001b[39m\u001b[38;5;124m'\u001b[39m)\n\u001b[0;32m      6\u001b[0m plt\u001b[38;5;241m.\u001b[39maxis(\u001b[38;5;124m'\u001b[39m\u001b[38;5;124moff\u001b[39m\u001b[38;5;124m'\u001b[39m)  \u001b[38;5;66;03m# Turn off axis labels\u001b[39;00m\n",
      "\u001b[1;31merror\u001b[0m: OpenCV(4.8.1) D:\\a\\opencv-python\\opencv-python\\opencv\\modules\\imgproc\\src\\color.cpp:182: error: (-215:Assertion failed) !_src.empty() in function 'cv::cvtColor'\n"
     ]
    }
   ],
   "source": [
    "img = cv2.imread('random.png')\n",
    "\n",
    "# Displaying the image using Matplotlib\n",
    "plt.imshow(cv2.cvtColor(img, cv2.COLOR_BGR2RGB))\n",
    "plt.title('Grayscale Image')\n",
    "plt.axis('off')  # Turn off axis labels\n",
    "plt.show()\n",
    "\n",
    "# Writing the image\n",
    "cv2.imwrite('grayscale.jpg', img)"
   ]
  },
  {
   "cell_type": "markdown",
   "id": "1e7b4d81",
   "metadata": {},
   "source": [
    "# 2. Changing the format from png to jpg"
   ]
  },
  {
   "cell_type": "code",
   "execution_count": null,
   "id": "612c03df",
   "metadata": {},
   "outputs": [],
   "source": [
    "response = cv2.imwrite(\"/output.jpg\", img)"
   ]
  },
  {
   "cell_type": "markdown",
   "id": "2eadf5ca",
   "metadata": {},
   "source": [
    "# 3. Resizing the Image"
   ]
  },
  {
   "cell_type": "code",
   "execution_count": null,
   "id": "6aa09cb3",
   "metadata": {},
   "outputs": [],
   "source": [
    "img_resized = cv2.resize(img, (1050, 1610))"
   ]
  },
  {
   "cell_type": "markdown",
   "id": "f9b05351",
   "metadata": {},
   "source": [
    "# 4. Converting the image to grayscale"
   ]
  },
  {
   "cell_type": "code",
   "execution_count": null,
   "id": "32821643",
   "metadata": {},
   "outputs": [],
   "source": [
    "gray_image = cv2.cvtColor(img, cv2.COLOR_BGR2GRAY) "
   ]
  },
  {
   "cell_type": "markdown",
   "id": "b0ade7ee",
   "metadata": {},
   "source": [
    "# 5. Rotating and Shifting the image"
   ]
  },
  {
   "cell_type": "code",
   "execution_count": null,
   "id": "fe37113e",
   "metadata": {},
   "outputs": [],
   "source": [
    "#5.\n",
    "# rotating the image\n",
    "image = cv2.rotate(img, cv2.ROTATE_90_CLOCKWISE)\n",
    "#shifting the image (RECTILINEAR SHIFT)\n",
    "height, width = img.shape[:2] \n",
    "  \n",
    "quarter_height, quarter_width = height / 4, width / 4\n",
    "  \n",
    "T = np.float32([[1, 0, quarter_width], [0, 1, quarter_height]]) \n",
    "  \n",
    "# We use warpAffine to transform \n",
    "# the image using the matrix, T \n",
    "img_translation = cv2.warpAffine(img, T, (width, height)) "
   ]
  },
  {
   "cell_type": "markdown",
   "id": "07c2e2ed",
   "metadata": {},
   "source": [
    "# 6.1 - Playing a video"
   ]
  },
  {
   "cell_type": "code",
   "execution_count": null,
   "id": "d65085ef",
   "metadata": {},
   "outputs": [],
   "source": [
    "cap = cv2.VideoCapture('video_path')\n",
    "\n",
    "if not cap.isOpened():\n",
    "    print(\"Error opening video file\")\n",
    "\n",
    "while cap.isOpened():\n",
    "    ret, frame = cap.read()\n",
    "    if ret:\n",
    "        cv2.imshow('Frame', frame)\n",
    "        if cv2.waitKey(25) & 0xFF == ord('q'):\n",
    "            break\n",
    "    else:\n",
    "        break\n",
    "\n",
    "cap.release()\n",
    "cv2.destroyAllWindows()"
   ]
  },
  {
   "cell_type": "markdown",
   "id": "2c541053",
   "metadata": {},
   "source": [
    "# 6.2- Extracting and saving all the frames of the video"
   ]
  },
  {
   "cell_type": "code",
   "execution_count": null,
   "id": "00d9ecdd",
   "metadata": {},
   "outputs": [],
   "source": [
    "video_path = \"video_path\"  \n",
    "cam = cv2.VideoCapture(video_path)\n",
    "\n",
    "try:\n",
    "    if not os.path.exists('data'):\n",
    "        os.makedirs('data')\n",
    "except OSError:\n",
    "    print('Error: Creating directory of data')\n",
    "\n",
    "currentframe = 0\n",
    "\n",
    "while True:\n",
    "    ret, frame = cam.read()\n",
    "\n",
    "    if ret:\n",
    "        name = os.path.join('data', 'frame' + str(currentframe) + '.jpg')\n",
    "        print('Creating...' + name)\n",
    "        cv2.imwrite(name, frame)\n",
    "        currentframe += 1\n",
    "    else:\n",
    "        break\n",
    "\n",
    "cam.release()\n",
    "cv2.destroyAllWindows()\n"
   ]
  }
 ],
 "metadata": {
  "kernelspec": {
   "display_name": "Python 3 (ipykernel)",
   "language": "python",
   "name": "python3"
  },
  "language_info": {
   "codemirror_mode": {
    "name": "ipython",
    "version": 3
   },
   "file_extension": ".py",
   "mimetype": "text/x-python",
   "name": "python",
   "nbconvert_exporter": "python",
   "pygments_lexer": "ipython3",
   "version": "3.10.9"
  }
 },
 "nbformat": 4,
 "nbformat_minor": 5
}
